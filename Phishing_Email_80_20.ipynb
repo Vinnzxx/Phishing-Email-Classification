{
 "cells": [
  {
   "cell_type": "code",
   "execution_count": 1,
   "id": "24162b49",
   "metadata": {},
   "outputs": [
    {
     "data": {
      "text/html": [
       "<div>\n",
       "<style scoped>\n",
       "    .dataframe tbody tr th:only-of-type {\n",
       "        vertical-align: middle;\n",
       "    }\n",
       "\n",
       "    .dataframe tbody tr th {\n",
       "        vertical-align: top;\n",
       "    }\n",
       "\n",
       "    .dataframe thead th {\n",
       "        text-align: right;\n",
       "    }\n",
       "</style>\n",
       "<table border=\"1\" class=\"dataframe\">\n",
       "  <thead>\n",
       "    <tr style=\"text-align: right;\">\n",
       "      <th></th>\n",
       "      <th>text</th>\n",
       "      <th>label</th>\n",
       "    </tr>\n",
       "  </thead>\n",
       "  <tbody>\n",
       "    <tr>\n",
       "      <th>0</th>\n",
       "      <td>re : 6 . 1100 , disc : uniformitarianism , re ...</td>\n",
       "      <td>safe</td>\n",
       "    </tr>\n",
       "    <tr>\n",
       "      <th>1</th>\n",
       "      <td>the other side of * galicismos * * galicismo *...</td>\n",
       "      <td>safe</td>\n",
       "    </tr>\n",
       "    <tr>\n",
       "      <th>2</th>\n",
       "      <td>re : equistar deal tickets are you still avail...</td>\n",
       "      <td>safe</td>\n",
       "    </tr>\n",
       "    <tr>\n",
       "      <th>3</th>\n",
       "      <td>\\nHello I am your hot lil horny toy.\\n    I am...</td>\n",
       "      <td>phishing</td>\n",
       "    </tr>\n",
       "    <tr>\n",
       "      <th>4</th>\n",
       "      <td>software at incredibly low prices ( 86 % lower...</td>\n",
       "      <td>phishing</td>\n",
       "    </tr>\n",
       "  </tbody>\n",
       "</table>\n",
       "</div>"
      ],
      "text/plain": [
       "                                                text     label\n",
       "0  re : 6 . 1100 , disc : uniformitarianism , re ...      safe\n",
       "1  the other side of * galicismos * * galicismo *...      safe\n",
       "2  re : equistar deal tickets are you still avail...      safe\n",
       "3  \\nHello I am your hot lil horny toy.\\n    I am...  phishing\n",
       "4  software at incredibly low prices ( 86 % lower...  phishing"
      ]
     },
     "execution_count": 1,
     "metadata": {},
     "output_type": "execute_result"
    }
   ],
   "source": [
    "import matplotlib.pyplot as plt\n",
    "import csv\n",
    "import sklearn\n",
    "import pickle\n",
    "from wordcloud import WordCloud\n",
    "import pandas as pd\n",
    "import numpy as np\n",
    "import nltk\n",
    "from nltk.corpus import stopwords\n",
    "from sklearn.feature_extraction.text import CountVectorizer, TfidfTransformer\n",
    "from sklearn.tree import DecisionTreeClassifier\n",
    "from sklearn.model_selection import GridSearchCV,train_test_split,StratifiedKFold,cross_val_score,learning_curve\n",
    "import warnings\n",
    "\n",
    "data = pd.read_csv('Phishing_Email.csv', encoding='latin-1')\n",
    "data = data.drop(\"Unnamed: 0\", axis=1)\n",
    "data = data.rename(columns={\"Email Text\" : \"text\", \"Email Type\":\"label\"})\n",
    "# Modify labels to 'safe' and 'phishing'\n",
    "data['label'] = data['label'].map({'Safe Email': 'safe', 'Phishing Email': 'phishing'})\n",
    "data.head()"
   ]
  },
  {
   "cell_type": "code",
   "execution_count": 2,
   "id": "b115ef6e",
   "metadata": {},
   "outputs": [
    {
     "data": {
      "text/plain": [
       "label\n",
       "safe        11322\n",
       "phishing     7328\n",
       "Name: count, dtype: int64"
      ]
     },
     "execution_count": 2,
     "metadata": {},
     "output_type": "execute_result"
    }
   ],
   "source": [
    "data['label'].value_counts()"
   ]
  },
  {
   "cell_type": "code",
   "execution_count": 3,
   "id": "9671254c",
   "metadata": {},
   "outputs": [],
   "source": [
    "# # Import nltk packages and Punkt Tokenizer Models\n",
    "# import nltk\n",
    "# nltk.download(\"punkt\")\n",
    "# import warnings\n",
    "# warnings.filterwarnings('ignore')\n",
    "\n",
    "# safe_words = ''\n",
    "# phishing_words = ''\n",
    "# # Creating a corpus of spam messages\n",
    "# for val in data[data['label'] == 'safe'].text:\n",
    "#     text = val.lower()\n",
    "#     tokens = nltk.word_tokenize(text)\n",
    "#     for words in tokens:\n",
    "#         safe_words = safe_words + words + ' '\n",
    "\n",
    "# # Creating a corpus of ham messages\n",
    "# for val in data[data['label'] == 'phishing'].text:\n",
    "#     text = text.lower()\n",
    "#     tokens = nltk.word_tokenize(text)\n",
    "#     for words in tokens:\n",
    "#         phishing_words = phishing_words + words + ' '"
   ]
  },
  {
   "cell_type": "code",
   "execution_count": 4,
   "id": "1872e7a8",
   "metadata": {},
   "outputs": [],
   "source": [
    "# safe_wordcloud = WordCloud(width=500, height=300).generate(safe_words)\n",
    "# phishing_wordcloud = WordCloud(width=500, height=300).generate(phishing_words)\n",
    "\n",
    "# # Word cloud\n",
    "# plt.figure( figsize=(10,8), facecolor='w')\n",
    "# plt.imshow(safe_wordcloud)\n",
    "# plt.axis(\"off\")\n",
    "# plt.tight_layout(pad=0)\n",
    "# plt.show()\n",
    "\n",
    "# plt.figure( figsize=(10,8), facecolor='g')\n",
    "# plt.imshow(phishing_wordcloud)\n",
    "# plt.axis(\"off\")\n",
    "# plt.tight_layout(pad=0)\n",
    "# plt.show()"
   ]
  },
  {
   "cell_type": "code",
   "execution_count": 5,
   "id": "0a3e2e47",
   "metadata": {},
   "outputs": [
    {
     "data": {
      "text/html": [
       "<div>\n",
       "<style scoped>\n",
       "    .dataframe tbody tr th:only-of-type {\n",
       "        vertical-align: middle;\n",
       "    }\n",
       "\n",
       "    .dataframe tbody tr th {\n",
       "        vertical-align: top;\n",
       "    }\n",
       "\n",
       "    .dataframe thead th {\n",
       "        text-align: right;\n",
       "    }\n",
       "</style>\n",
       "<table border=\"1\" class=\"dataframe\">\n",
       "  <thead>\n",
       "    <tr style=\"text-align: right;\">\n",
       "      <th></th>\n",
       "      <th>text</th>\n",
       "      <th>label</th>\n",
       "    </tr>\n",
       "  </thead>\n",
       "  <tbody>\n",
       "    <tr>\n",
       "      <th>0</th>\n",
       "      <td>re : 6 . 1100 , disc : uniformitarianism , re ...</td>\n",
       "      <td>0</td>\n",
       "    </tr>\n",
       "    <tr>\n",
       "      <th>1</th>\n",
       "      <td>the other side of * galicismos * * galicismo *...</td>\n",
       "      <td>0</td>\n",
       "    </tr>\n",
       "    <tr>\n",
       "      <th>2</th>\n",
       "      <td>re : equistar deal tickets are you still avail...</td>\n",
       "      <td>0</td>\n",
       "    </tr>\n",
       "    <tr>\n",
       "      <th>3</th>\n",
       "      <td>\\nHello I am your hot lil horny toy.\\n    I am...</td>\n",
       "      <td>1</td>\n",
       "    </tr>\n",
       "    <tr>\n",
       "      <th>4</th>\n",
       "      <td>software at incredibly low prices ( 86 % lower...</td>\n",
       "      <td>1</td>\n",
       "    </tr>\n",
       "    <tr>\n",
       "      <th>5</th>\n",
       "      <td>global risk management operations sally congra...</td>\n",
       "      <td>0</td>\n",
       "    </tr>\n",
       "    <tr>\n",
       "      <th>6</th>\n",
       "      <td>On Sun, Aug 11, 2002 at 11:17:47AM +0100, wint...</td>\n",
       "      <td>0</td>\n",
       "    </tr>\n",
       "    <tr>\n",
       "      <th>7</th>\n",
       "      <td>entourage , stockmogul newsletter ralph velez ...</td>\n",
       "      <td>1</td>\n",
       "    </tr>\n",
       "    <tr>\n",
       "      <th>8</th>\n",
       "      <td>we owe you lots of money dear applicant , afte...</td>\n",
       "      <td>1</td>\n",
       "    </tr>\n",
       "    <tr>\n",
       "      <th>9</th>\n",
       "      <td>re : coastal deal - with exxon participation u...</td>\n",
       "      <td>0</td>\n",
       "    </tr>\n",
       "  </tbody>\n",
       "</table>\n",
       "</div>"
      ],
      "text/plain": [
       "                                                text  label\n",
       "0  re : 6 . 1100 , disc : uniformitarianism , re ...      0\n",
       "1  the other side of * galicismos * * galicismo *...      0\n",
       "2  re : equistar deal tickets are you still avail...      0\n",
       "3  \\nHello I am your hot lil horny toy.\\n    I am...      1\n",
       "4  software at incredibly low prices ( 86 % lower...      1\n",
       "5  global risk management operations sally congra...      0\n",
       "6  On Sun, Aug 11, 2002 at 11:17:47AM +0100, wint...      0\n",
       "7  entourage , stockmogul newsletter ralph velez ...      1\n",
       "8  we owe you lots of money dear applicant , afte...      1\n",
       "9  re : coastal deal - with exxon participation u...      0"
      ]
     },
     "execution_count": 5,
     "metadata": {},
     "output_type": "execute_result"
    }
   ],
   "source": [
    "data = data.replace(['safe','phishing'],[0, 1])\n",
    "data.head(10)"
   ]
  },
  {
   "cell_type": "code",
   "execution_count": 6,
   "id": "47abafc6",
   "metadata": {},
   "outputs": [
    {
     "data": {
      "text/html": [
       "<div>\n",
       "<style scoped>\n",
       "    .dataframe tbody tr th:only-of-type {\n",
       "        vertical-align: middle;\n",
       "    }\n",
       "\n",
       "    .dataframe tbody tr th {\n",
       "        vertical-align: top;\n",
       "    }\n",
       "\n",
       "    .dataframe thead th {\n",
       "        text-align: right;\n",
       "    }\n",
       "</style>\n",
       "<table border=\"1\" class=\"dataframe\">\n",
       "  <thead>\n",
       "    <tr style=\"text-align: right;\">\n",
       "      <th></th>\n",
       "      <th>text</th>\n",
       "      <th>label</th>\n",
       "    </tr>\n",
       "  </thead>\n",
       "  <tbody>\n",
       "    <tr>\n",
       "      <th>0</th>\n",
       "      <td>6 1100 disc uniformitarianism 1086 sex lang di...</td>\n",
       "      <td>0</td>\n",
       "    </tr>\n",
       "    <tr>\n",
       "      <th>1</th>\n",
       "      <td>side galicismos galicismo spanish term names i...</td>\n",
       "      <td>0</td>\n",
       "    </tr>\n",
       "    <tr>\n",
       "      <th>2</th>\n",
       "      <td>equistar deal tickets still available assist r...</td>\n",
       "      <td>0</td>\n",
       "    </tr>\n",
       "    <tr>\n",
       "      <th>3</th>\n",
       "      <td>Hello hot lil horny toy one dream open minded ...</td>\n",
       "      <td>1</td>\n",
       "    </tr>\n",
       "    <tr>\n",
       "      <th>4</th>\n",
       "      <td>software incredibly low prices 86 lower draper...</td>\n",
       "      <td>1</td>\n",
       "    </tr>\n",
       "  </tbody>\n",
       "</table>\n",
       "</div>"
      ],
      "text/plain": [
       "                                                text  label\n",
       "0  6 1100 disc uniformitarianism 1086 sex lang di...      0\n",
       "1  side galicismos galicismo spanish term names i...      0\n",
       "2  equistar deal tickets still available assist r...      0\n",
       "3  Hello hot lil horny toy one dream open minded ...      1\n",
       "4  software incredibly low prices 86 lower draper...      1"
      ]
     },
     "execution_count": 6,
     "metadata": {},
     "output_type": "execute_result"
    }
   ],
   "source": [
    "import string\n",
    "from nltk.corpus import stopwords\n",
    "\n",
    "def text_process(text):\n",
    "    # Check if the text is NaN (float type)\n",
    "    if isinstance(text, float) and np.isnan(text):\n",
    "        return \"\"\n",
    "\n",
    "    # Remove punctuation\n",
    "    text = text.translate(str.maketrans('', '', string.punctuation))\n",
    "    \n",
    "    # Remove stopwords\n",
    "    text = [word for word in text.split() if word.lower() not in stopwords.words('english')]\n",
    "    \n",
    "    return \" \".join(text)\n",
    "\n",
    "data['text'] = data['text'].apply(text_process)\n",
    "data.head()"
   ]
  },
  {
   "cell_type": "code",
   "execution_count": 7,
   "id": "08ac05fd",
   "metadata": {},
   "outputs": [],
   "source": [
    "text = pd.DataFrame(data['text'])\n",
    "label = pd.DataFrame(data['label'])"
   ]
  },
  {
   "cell_type": "code",
   "execution_count": 8,
   "id": "0e9f06f3",
   "metadata": {},
   "outputs": [
    {
     "data": {
      "text/plain": [
       "(18650, 189107)"
      ]
     },
     "execution_count": 8,
     "metadata": {},
     "output_type": "execute_result"
    }
   ],
   "source": [
    "#convert the text data into vectors\n",
    "from sklearn.feature_extraction.text import TfidfVectorizer\n",
    "\n",
    "vectorizer = TfidfVectorizer()\n",
    "vectors = vectorizer.fit_transform(data['text'])\n",
    "vectors.shape"
   ]
  },
  {
   "cell_type": "code",
   "execution_count": 9,
   "id": "df0b83ee",
   "metadata": {},
   "outputs": [],
   "source": [
    "features = vectors\n",
    "\n",
    "X_train, X_test, y_train, y_test = train_test_split(\n",
    "    features, label, test_size=0.2, stratify=label\n",
    ")"
   ]
  },
  {
   "cell_type": "code",
   "execution_count": 10,
   "id": "d23590d9",
   "metadata": {},
   "outputs": [],
   "source": [
    "from sklearn.ensemble import RandomForestClassifier\n",
    "rf = RandomForestClassifier(\n",
    "    n_estimators=500,\n",
    "    criterion='entropy',\n",
    "    max_depth=None,\n",
    "    min_samples_split=2,\n",
    "    min_samples_leaf=1,\n",
    "    min_weight_fraction_leaf=0.0,\n",
    "    max_leaf_nodes=None,\n",
    "    min_impurity_decrease=0.0,\n",
    "    bootstrap=True,\n",
    "    oob_score=False,\n",
    "    n_jobs=-1,\n",
    "    random_state=42,\n",
    ")\n",
    "\n",
    "from sklearn.svm import SVC\n",
    "svc = SVC(\n",
    "    C=1.0,                 # Regularization parameter\n",
    "    kernel='sigmoid',      # Kernel type ('linear', 'poly', 'rbf', 'sigmoid', etc.)\n",
    "    degree=3,              # Degree of the polynomial kernel function (only for 'poly')\n",
    "    gamma=1.0,             # Kernel coefficient (only for 'rbf', 'poly', and 'sigmoid')\n",
    "    coef0=0.0,             # Independent term in kernel function (only for 'poly' and 'sigmoid')\n",
    "    shrinking=True,        # Whether to use the shrinking heuristic\n",
    "    probability=False,     # Whether to enable probability estimates\n",
    "    tol=0.001,             # Tolerance for stopping criterion\n",
    "    class_weight='balanced',     # Weights for classes (balanced or custom)\n",
    "    verbose=False,         # Verbosity level\n",
    "    max_iter=-1,           # Maximum number of iterations (-1 for no limit)\n",
    "    decision_function_shape='ovr',  # Decision function type ('ovr' or 'ovo')\n",
    "    random_state=None   # Seed for random number generator\n",
    ")"
   ]
  },
  {
   "cell_type": "code",
   "execution_count": 11,
   "id": "1cf414e3",
   "metadata": {},
   "outputs": [
    {
     "name": "stderr",
     "output_type": "stream",
     "text": [
      "E:\\anaconda3\\Lib\\site-packages\\sklearn\\base.py:1151: DataConversionWarning: A column-vector y was passed when a 1d array was expected. Please change the shape of y to (n_samples,), for example using ravel().\n",
      "  return fit_method(estimator, *args, **kwargs)\n"
     ]
    },
    {
     "name": "stdout",
     "output_type": "stream",
     "text": [
      "Accuracy: 96.81%\n"
     ]
    }
   ],
   "source": [
    "from sklearn.metrics import accuracy_score\n",
    "\n",
    "rf.fit(X_train, y_train)\n",
    "y_pred = rf.predict(X_test)\n",
    "\n",
    "accuracy = accuracy_score(y_test, y_pred)\n",
    "print(\"Accuracy: {:.2f}%\".format(accuracy * 100))"
   ]
  },
  {
   "cell_type": "code",
   "execution_count": 12,
   "id": "0e73430f",
   "metadata": {},
   "outputs": [
    {
     "name": "stderr",
     "output_type": "stream",
     "text": [
      "E:\\anaconda3\\Lib\\site-packages\\sklearn\\utils\\validation.py:1184: DataConversionWarning: A column-vector y was passed when a 1d array was expected. Please change the shape of y to (n_samples, ), for example using ravel().\n",
      "  y = column_or_1d(y, warn=True)\n"
     ]
    },
    {
     "name": "stdout",
     "output_type": "stream",
     "text": [
      "Accuracy: 97.64%\n"
     ]
    }
   ],
   "source": [
    "svc.fit(X_train, y_train)\n",
    "y_pred = svc.predict(X_test)\n",
    "\n",
    "accuracy = accuracy_score(y_test, y_pred)\n",
    "print(\"Accuracy: {:.2f}%\".format(accuracy * 100))"
   ]
  },
  {
   "cell_type": "code",
   "execution_count": 13,
   "id": "44b80c84",
   "metadata": {},
   "outputs": [
    {
     "name": "stdout",
     "output_type": "stream",
     "text": [
      "              precision    recall  f1-score   support\n",
      "\n",
      "        safe       0.98      0.97      0.97      2264\n",
      "    phishing       0.95      0.97      0.96      1466\n",
      "\n",
      "    accuracy                           0.97      3730\n",
      "   macro avg       0.96      0.97      0.97      3730\n",
      "weighted avg       0.97      0.97      0.97      3730\n",
      "\n"
     ]
    },
    {
     "data": {
      "image/png": "[encoded data removed]",
      "text/plain": [
       "<Figure size 800x600 with 2 Axes>"
      ]
     },
     "metadata": {},
     "output_type": "display_data"
    }
   ],
   "source": [
    "from sklearn.metrics import confusion_matrix, ConfusionMatrixDisplay, classification_report\n",
    "import seaborn as sns\n",
    "import matplotlib.pyplot as plt\n",
    "\n",
    "# Menghitung Confusion Matrix dari hasil testing\n",
    "y_pred = rf.predict(X_test)\n",
    "cm = confusion_matrix(y_test, y_pred)\n",
    "\n",
    "class_names = ['safe', 'phishing']\n",
    "print(classification_report(y_test, y_pred, target_names=class_names))\n",
    "\n",
    "# Menampilkan Confusion Matrix dengan judul\n",
    "plt.figure(figsize=(8, 6))\n",
    "sns.heatmap(cm, annot=True, fmt=\"d\", cmap=\"Blues\")\n",
    "plt.xlabel(\"Predicted Labels\")\n",
    "plt.ylabel(\"True Labels\")\n",
    "plt.title(\"Confusion Matrix Random Forest\")\n",
    "plt.show()"
   ]
  },
  {
   "cell_type": "code",
   "execution_count": 14,
   "id": "c32704ca",
   "metadata": {},
   "outputs": [
    {
     "name": "stdout",
     "output_type": "stream",
     "text": [
      "              precision    recall  f1-score   support\n",
      "\n",
      "        safe       0.99      0.97      0.98      2264\n",
      "    phishing       0.95      0.99      0.97      1466\n",
      "\n",
      "    accuracy                           0.98      3730\n",
      "   macro avg       0.97      0.98      0.98      3730\n",
      "weighted avg       0.98      0.98      0.98      3730\n",
      "\n"
     ]
    },
    {
     "data": {
      "image/png": "[encoded data removed]",
      "text/plain": [
       "<Figure size 800x600 with 2 Axes>"
      ]
     },
     "metadata": {},
     "output_type": "display_data"
    }
   ],
   "source": [
    "from sklearn.metrics import confusion_matrix, ConfusionMatrixDisplay, classification_report\n",
    "import seaborn as sns\n",
    "import matplotlib.pyplot as plt\n",
    "\n",
    "# Menghitung Confusion Matrix dari hasil testing\n",
    "y_pred = svc.predict(X_test)\n",
    "cm = confusion_matrix(y_test, y_pred)\n",
    "\n",
    "class_names = ['safe', 'phishing']\n",
    "print(classification_report(y_test, y_pred, target_names=class_names))\n",
    "\n",
    "# Menampilkan Confusion Matrix dengan judul\n",
    "plt.figure(figsize=(8, 6))\n",
    "sns.heatmap(cm, annot=True, fmt=\"d\", cmap=\"Blues\")\n",
    "plt.xlabel(\"Predicted Labels\")\n",
    "plt.ylabel(\"True Labels\")\n",
    "plt.title(\"Confusion Matrix Support Vector Classification\")\n",
    "plt.show()"
   ]
  },
  {
   "cell_type": "code",
   "execution_count": 17,
   "id": "947b2a86",
   "metadata": {},
   "outputs": [
    {
     "data": {
      "text/plain": [
       "['svm_model.joblib']"
      ]
     },
     "execution_count": 17,
     "metadata": {},
     "output_type": "execute_result"
    }
   ],
   "source": [
    "import joblib\n",
    "\n",
    "# Save the trained model using joblib\n",
    "joblib.dump(svc, 'svm_model.joblib')"
   ]
  },
  {
   "cell_type": "code",
   "execution_count": 18,
   "id": "96e3ccbf",
   "metadata": {},
   "outputs": [],
   "source": [
    "import pickle\n",
    "\n",
    "filename = 'trainmodel.sav'\n",
    "pickle.dump(svc, open(filename, 'wb'))"
   ]
  },
  {
   "cell_type": "code",
   "execution_count": 20,
   "id": "1ad0b657",
   "metadata": {},
   "outputs": [
    {
     "data": {
      "text/plain": [
       "['tfidf_vectorizer.joblib']"
      ]
     },
     "execution_count": 20,
     "metadata": {},
     "output_type": "execute_result"
    }
   ],
   "source": [
    "# Fit and save the TF-IDF vectorizer\n",
    "vectorizer = TfidfVectorizer()\n",
    "X_train_tfidf = vectorizer.fit_transform(data['text'])\n",
    "joblib.dump(vectorizer, 'tfidf_vectorizer.joblib')"
   ]
  },
  {
   "cell_type": "code",
   "execution_count": null,
   "id": "f6a55fc7",
   "metadata": {},
   "outputs": [],
   "source": []
  }
 ],
 "metadata": {
  "kernelspec": {
   "display_name": "Python 3 (ipykernel)",
   "language": "python",
   "name": "python3"
  },
  "language_info": {
   "codemirror_mode": {
    "name": "ipython",
    "version": 3
   },
   "file_extension": ".py",
   "mimetype": "text/x-python",
   "name": "python",
   "nbconvert_exporter": "python",
   "pygments_lexer": "ipython3",
   "version": "3.11.5"
  }
 },
 "nbformat": 4,
 "nbformat_minor": 5
}
